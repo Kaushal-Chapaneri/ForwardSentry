{
  "nbformat": 4,
  "nbformat_minor": 0,
  "metadata": {
    "colab": {
      "provenance": []
    },
    "kernelspec": {
      "name": "python3",
      "display_name": "Python 3"
    },
    "language_info": {
      "name": "python"
    }
  },
  "cells": [
    {
      "cell_type": "markdown",
      "source": [
        "### Step 0: Package Installation & setup"
      ],
      "metadata": {
        "id": "M1mMDBKM4ct5"
      }
    },
    {
      "cell_type": "code",
      "source": [
        "!pip install nx-arangodb sentence-transformers\n",
        "\n",
        "!pip install --upgrade langchain langchain-community langchain-openai langgraph google-search-results"
      ],
      "metadata": {
        "colab": {
          "base_uri": "https://localhost:8080/"
        },
        "collapsed": true,
        "id": "B_bmul764kTt",
        "outputId": "b97c5120-c091-4ecd-dd35-341891814706"
      },
      "execution_count": 229,
      "outputs": [
        {
          "output_type": "stream",
          "name": "stdout",
          "text": [
            "Requirement already satisfied: nx-arangodb in /usr/local/lib/python3.11/dist-packages (1.3.0)\n",
            "Requirement already satisfied: sentence-transformers in /usr/local/lib/python3.11/dist-packages (3.4.1)\n",
            "Requirement already satisfied: networkx<=3.4,>=3.0 in /usr/local/lib/python3.11/dist-packages (from nx-arangodb) (3.4)\n",
            "Requirement already satisfied: phenolrs~=0.5 in /usr/local/lib/python3.11/dist-packages (from nx-arangodb) (0.5.9)\n",
            "Requirement already satisfied: python-arango~=8.1 in /usr/local/lib/python3.11/dist-packages (from nx-arangodb) (8.1.6)\n",
            "Requirement already satisfied: adbnx-adapter~=5.0.5 in /usr/local/lib/python3.11/dist-packages (from nx-arangodb) (5.0.6)\n",
            "Requirement already satisfied: transformers<5.0.0,>=4.41.0 in /usr/local/lib/python3.11/dist-packages (from sentence-transformers) (4.48.3)\n",
            "Requirement already satisfied: tqdm in /usr/local/lib/python3.11/dist-packages (from sentence-transformers) (4.67.1)\n",
            "Requirement already satisfied: torch>=1.11.0 in /usr/local/lib/python3.11/dist-packages (from sentence-transformers) (2.5.1+cu124)\n",
            "Requirement already satisfied: scikit-learn in /usr/local/lib/python3.11/dist-packages (from sentence-transformers) (1.6.1)\n",
            "Requirement already satisfied: scipy in /usr/local/lib/python3.11/dist-packages (from sentence-transformers) (1.13.1)\n",
            "Requirement already satisfied: huggingface-hub>=0.20.0 in /usr/local/lib/python3.11/dist-packages (from sentence-transformers) (0.28.1)\n",
            "Requirement already satisfied: Pillow in /usr/local/lib/python3.11/dist-packages (from sentence-transformers) (11.1.0)\n",
            "Requirement already satisfied: requests>=2.27.1 in /usr/local/lib/python3.11/dist-packages (from adbnx-adapter~=5.0.5->nx-arangodb) (2.32.3)\n",
            "Requirement already satisfied: rich>=12.5.1 in /usr/local/lib/python3.11/dist-packages (from adbnx-adapter~=5.0.5->nx-arangodb) (13.9.4)\n",
            "Requirement already satisfied: setuptools>=45 in /usr/local/lib/python3.11/dist-packages (from adbnx-adapter~=5.0.5->nx-arangodb) (75.1.0)\n",
            "Requirement already satisfied: filelock in /usr/local/lib/python3.11/dist-packages (from huggingface-hub>=0.20.0->sentence-transformers) (3.17.0)\n",
            "Requirement already satisfied: fsspec>=2023.5.0 in /usr/local/lib/python3.11/dist-packages (from huggingface-hub>=0.20.0->sentence-transformers) (2024.10.0)\n",
            "Requirement already satisfied: packaging>=20.9 in /usr/local/lib/python3.11/dist-packages (from huggingface-hub>=0.20.0->sentence-transformers) (24.2)\n",
            "Requirement already satisfied: pyyaml>=5.1 in /usr/local/lib/python3.11/dist-packages (from huggingface-hub>=0.20.0->sentence-transformers) (6.0.2)\n",
            "Requirement already satisfied: typing-extensions>=3.7.4.3 in /usr/local/lib/python3.11/dist-packages (from huggingface-hub>=0.20.0->sentence-transformers) (4.12.2)\n",
            "Requirement already satisfied: numpy~=1.26 in /usr/local/lib/python3.11/dist-packages (from phenolrs~=0.5->nx-arangodb) (1.26.4)\n",
            "Requirement already satisfied: urllib3>=1.26.0 in /usr/local/lib/python3.11/dist-packages (from python-arango~=8.1->nx-arangodb) (2.3.0)\n",
            "Requirement already satisfied: requests_toolbelt in /usr/local/lib/python3.11/dist-packages (from python-arango~=8.1->nx-arangodb) (1.0.0)\n",
            "Requirement already satisfied: PyJWT in /usr/local/lib/python3.11/dist-packages (from python-arango~=8.1->nx-arangodb) (2.10.1)\n",
            "Requirement already satisfied: importlib_metadata>=4.7.1 in /usr/local/lib/python3.11/dist-packages (from python-arango~=8.1->nx-arangodb) (8.6.1)\n",
            "Requirement already satisfied: jinja2 in /usr/local/lib/python3.11/dist-packages (from torch>=1.11.0->sentence-transformers) (3.1.5)\n",
            "Requirement already satisfied: nvidia-cuda-nvrtc-cu12==12.4.127 in /usr/local/lib/python3.11/dist-packages (from torch>=1.11.0->sentence-transformers) (12.4.127)\n",
            "Requirement already satisfied: nvidia-cuda-runtime-cu12==12.4.127 in /usr/local/lib/python3.11/dist-packages (from torch>=1.11.0->sentence-transformers) (12.4.127)\n",
            "Requirement already satisfied: nvidia-cuda-cupti-cu12==12.4.127 in /usr/local/lib/python3.11/dist-packages (from torch>=1.11.0->sentence-transformers) (12.4.127)\n",
            "Requirement already satisfied: nvidia-cudnn-cu12==9.1.0.70 in /usr/local/lib/python3.11/dist-packages (from torch>=1.11.0->sentence-transformers) (9.1.0.70)\n",
            "Requirement already satisfied: nvidia-cublas-cu12==12.4.5.8 in /usr/local/lib/python3.11/dist-packages (from torch>=1.11.0->sentence-transformers) (12.4.5.8)\n",
            "Requirement already satisfied: nvidia-cufft-cu12==11.2.1.3 in /usr/local/lib/python3.11/dist-packages (from torch>=1.11.0->sentence-transformers) (11.2.1.3)\n",
            "Requirement already satisfied: nvidia-curand-cu12==10.3.5.147 in /usr/local/lib/python3.11/dist-packages (from torch>=1.11.0->sentence-transformers) (10.3.5.147)\n",
            "Requirement already satisfied: nvidia-cusolver-cu12==11.6.1.9 in /usr/local/lib/python3.11/dist-packages (from torch>=1.11.0->sentence-transformers) (11.6.1.9)\n",
            "Requirement already satisfied: nvidia-cusparse-cu12==12.3.1.170 in /usr/local/lib/python3.11/dist-packages (from torch>=1.11.0->sentence-transformers) (12.3.1.170)\n",
            "Requirement already satisfied: nvidia-nccl-cu12==2.21.5 in /usr/local/lib/python3.11/dist-packages (from torch>=1.11.0->sentence-transformers) (2.21.5)\n",
            "Requirement already satisfied: nvidia-nvtx-cu12==12.4.127 in /usr/local/lib/python3.11/dist-packages (from torch>=1.11.0->sentence-transformers) (12.4.127)\n",
            "Requirement already satisfied: nvidia-nvjitlink-cu12==12.4.127 in /usr/local/lib/python3.11/dist-packages (from torch>=1.11.0->sentence-transformers) (12.4.127)\n",
            "Requirement already satisfied: triton==3.1.0 in /usr/local/lib/python3.11/dist-packages (from torch>=1.11.0->sentence-transformers) (3.1.0)\n",
            "Requirement already satisfied: sympy==1.13.1 in /usr/local/lib/python3.11/dist-packages (from torch>=1.11.0->sentence-transformers) (1.13.1)\n",
            "Requirement already satisfied: mpmath<1.4,>=1.1.0 in /usr/local/lib/python3.11/dist-packages (from sympy==1.13.1->torch>=1.11.0->sentence-transformers) (1.3.0)\n",
            "Requirement already satisfied: regex!=2019.12.17 in /usr/local/lib/python3.11/dist-packages (from transformers<5.0.0,>=4.41.0->sentence-transformers) (2024.11.6)\n",
            "Requirement already satisfied: tokenizers<0.22,>=0.21 in /usr/local/lib/python3.11/dist-packages (from transformers<5.0.0,>=4.41.0->sentence-transformers) (0.21.0)\n",
            "Requirement already satisfied: safetensors>=0.4.1 in /usr/local/lib/python3.11/dist-packages (from transformers<5.0.0,>=4.41.0->sentence-transformers) (0.5.3)\n",
            "Requirement already satisfied: joblib>=1.2.0 in /usr/local/lib/python3.11/dist-packages (from scikit-learn->sentence-transformers) (1.4.2)\n",
            "Requirement already satisfied: threadpoolctl>=3.1.0 in /usr/local/lib/python3.11/dist-packages (from scikit-learn->sentence-transformers) (3.5.0)\n",
            "Requirement already satisfied: zipp>=3.20 in /usr/local/lib/python3.11/dist-packages (from importlib_metadata>=4.7.1->python-arango~=8.1->nx-arangodb) (3.21.0)\n",
            "Requirement already satisfied: charset-normalizer<4,>=2 in /usr/local/lib/python3.11/dist-packages (from requests>=2.27.1->adbnx-adapter~=5.0.5->nx-arangodb) (3.4.1)\n",
            "Requirement already satisfied: idna<4,>=2.5 in /usr/local/lib/python3.11/dist-packages (from requests>=2.27.1->adbnx-adapter~=5.0.5->nx-arangodb) (3.10)\n",
            "Requirement already satisfied: certifi>=2017.4.17 in /usr/local/lib/python3.11/dist-packages (from requests>=2.27.1->adbnx-adapter~=5.0.5->nx-arangodb) (2025.1.31)\n",
            "Requirement already satisfied: markdown-it-py>=2.2.0 in /usr/local/lib/python3.11/dist-packages (from rich>=12.5.1->adbnx-adapter~=5.0.5->nx-arangodb) (3.0.0)\n",
            "Requirement already satisfied: pygments<3.0.0,>=2.13.0 in /usr/local/lib/python3.11/dist-packages (from rich>=12.5.1->adbnx-adapter~=5.0.5->nx-arangodb) (2.18.0)\n",
            "Requirement already satisfied: MarkupSafe>=2.0 in /usr/local/lib/python3.11/dist-packages (from jinja2->torch>=1.11.0->sentence-transformers) (3.0.2)\n",
            "Requirement already satisfied: mdurl~=0.1 in /usr/local/lib/python3.11/dist-packages (from markdown-it-py>=2.2.0->rich>=12.5.1->adbnx-adapter~=5.0.5->nx-arangodb) (0.1.2)\n",
            "Requirement already satisfied: langchain in /usr/local/lib/python3.11/dist-packages (0.3.20)\n",
            "Requirement already satisfied: langchain-community in /usr/local/lib/python3.11/dist-packages (0.3.19)\n",
            "Requirement already satisfied: langchain-openai in /usr/local/lib/python3.11/dist-packages (0.3.8)\n",
            "Requirement already satisfied: langgraph in /usr/local/lib/python3.11/dist-packages (0.3.5)\n",
            "Collecting google-search-results\n",
            "  Downloading google_search_results-2.4.2.tar.gz (18 kB)\n",
            "  Preparing metadata (setup.py) ... \u001b[?25l\u001b[?25hdone\n",
            "Requirement already satisfied: langchain-core<1.0.0,>=0.3.41 in /usr/local/lib/python3.11/dist-packages (from langchain) (0.3.43)\n",
            "Requirement already satisfied: langchain-text-splitters<1.0.0,>=0.3.6 in /usr/local/lib/python3.11/dist-packages (from langchain) (0.3.6)\n",
            "Requirement already satisfied: langsmith<0.4,>=0.1.17 in /usr/local/lib/python3.11/dist-packages (from langchain) (0.3.11)\n",
            "Requirement already satisfied: pydantic<3.0.0,>=2.7.4 in /usr/local/lib/python3.11/dist-packages (from langchain) (2.10.6)\n",
            "Requirement already satisfied: SQLAlchemy<3,>=1.4 in /usr/local/lib/python3.11/dist-packages (from langchain) (2.0.38)\n",
            "Requirement already satisfied: requests<3,>=2 in /usr/local/lib/python3.11/dist-packages (from langchain) (2.32.3)\n",
            "Requirement already satisfied: PyYAML>=5.3 in /usr/local/lib/python3.11/dist-packages (from langchain) (6.0.2)\n",
            "Requirement already satisfied: aiohttp<4.0.0,>=3.8.3 in /usr/local/lib/python3.11/dist-packages (from langchain-community) (3.11.13)\n",
            "Requirement already satisfied: tenacity!=8.4.0,<10,>=8.1.0 in /usr/local/lib/python3.11/dist-packages (from langchain-community) (9.0.0)\n",
            "Requirement already satisfied: dataclasses-json<0.7,>=0.5.7 in /usr/local/lib/python3.11/dist-packages (from langchain-community) (0.6.7)\n",
            "Requirement already satisfied: pydantic-settings<3.0.0,>=2.4.0 in /usr/local/lib/python3.11/dist-packages (from langchain-community) (2.8.1)\n",
            "Requirement already satisfied: httpx-sse<1.0.0,>=0.4.0 in /usr/local/lib/python3.11/dist-packages (from langchain-community) (0.4.0)\n",
            "Requirement already satisfied: numpy<3,>=1.26.2 in /usr/local/lib/python3.11/dist-packages (from langchain-community) (1.26.4)\n",
            "Requirement already satisfied: openai<2.0.0,>=1.58.1 in /usr/local/lib/python3.11/dist-packages (from langchain-openai) (1.61.1)\n",
            "Requirement already satisfied: tiktoken<1,>=0.7 in /usr/local/lib/python3.11/dist-packages (from langchain-openai) (0.9.0)\n",
            "Requirement already satisfied: langgraph-checkpoint<3.0.0,>=2.0.10 in /usr/local/lib/python3.11/dist-packages (from langgraph) (2.0.18)\n",
            "Requirement already satisfied: langgraph-prebuilt<0.2,>=0.1.1 in /usr/local/lib/python3.11/dist-packages (from langgraph) (0.1.2)\n",
            "Requirement already satisfied: langgraph-sdk<0.2.0,>=0.1.42 in /usr/local/lib/python3.11/dist-packages (from langgraph) (0.1.55)\n",
            "Requirement already satisfied: aiohappyeyeballs>=2.3.0 in /usr/local/lib/python3.11/dist-packages (from aiohttp<4.0.0,>=3.8.3->langchain-community) (2.4.6)\n",
            "Requirement already satisfied: aiosignal>=1.1.2 in /usr/local/lib/python3.11/dist-packages (from aiohttp<4.0.0,>=3.8.3->langchain-community) (1.3.2)\n",
            "Requirement already satisfied: attrs>=17.3.0 in /usr/local/lib/python3.11/dist-packages (from aiohttp<4.0.0,>=3.8.3->langchain-community) (25.1.0)\n",
            "Requirement already satisfied: frozenlist>=1.1.1 in /usr/local/lib/python3.11/dist-packages (from aiohttp<4.0.0,>=3.8.3->langchain-community) (1.5.0)\n",
            "Requirement already satisfied: multidict<7.0,>=4.5 in /usr/local/lib/python3.11/dist-packages (from aiohttp<4.0.0,>=3.8.3->langchain-community) (6.1.0)\n",
            "Requirement already satisfied: propcache>=0.2.0 in /usr/local/lib/python3.11/dist-packages (from aiohttp<4.0.0,>=3.8.3->langchain-community) (0.3.0)\n",
            "Requirement already satisfied: yarl<2.0,>=1.17.0 in /usr/local/lib/python3.11/dist-packages (from aiohttp<4.0.0,>=3.8.3->langchain-community) (1.18.3)\n",
            "Requirement already satisfied: marshmallow<4.0.0,>=3.18.0 in /usr/local/lib/python3.11/dist-packages (from dataclasses-json<0.7,>=0.5.7->langchain-community) (3.26.1)\n",
            "Requirement already satisfied: typing-inspect<1,>=0.4.0 in /usr/local/lib/python3.11/dist-packages (from dataclasses-json<0.7,>=0.5.7->langchain-community) (0.9.0)\n",
            "Requirement already satisfied: jsonpatch<2.0,>=1.33 in /usr/local/lib/python3.11/dist-packages (from langchain-core<1.0.0,>=0.3.41->langchain) (1.33)\n",
            "Requirement already satisfied: packaging<25,>=23.2 in /usr/local/lib/python3.11/dist-packages (from langchain-core<1.0.0,>=0.3.41->langchain) (24.2)\n",
            "Requirement already satisfied: typing-extensions>=4.7 in /usr/local/lib/python3.11/dist-packages (from langchain-core<1.0.0,>=0.3.41->langchain) (4.12.2)\n",
            "Requirement already satisfied: msgpack<2.0.0,>=1.1.0 in /usr/local/lib/python3.11/dist-packages (from langgraph-checkpoint<3.0.0,>=2.0.10->langgraph) (1.1.0)\n",
            "Requirement already satisfied: httpx>=0.25.2 in /usr/local/lib/python3.11/dist-packages (from langgraph-sdk<0.2.0,>=0.1.42->langgraph) (0.28.1)\n",
            "Requirement already satisfied: orjson>=3.10.1 in /usr/local/lib/python3.11/dist-packages (from langgraph-sdk<0.2.0,>=0.1.42->langgraph) (3.10.15)\n",
            "Requirement already satisfied: requests-toolbelt<2.0.0,>=1.0.0 in /usr/local/lib/python3.11/dist-packages (from langsmith<0.4,>=0.1.17->langchain) (1.0.0)\n",
            "Requirement already satisfied: zstandard<0.24.0,>=0.23.0 in /usr/local/lib/python3.11/dist-packages (from langsmith<0.4,>=0.1.17->langchain) (0.23.0)\n",
            "Requirement already satisfied: anyio<5,>=3.5.0 in /usr/local/lib/python3.11/dist-packages (from openai<2.0.0,>=1.58.1->langchain-openai) (3.7.1)\n",
            "Requirement already satisfied: distro<2,>=1.7.0 in /usr/local/lib/python3.11/dist-packages (from openai<2.0.0,>=1.58.1->langchain-openai) (1.9.0)\n",
            "Requirement already satisfied: jiter<1,>=0.4.0 in /usr/local/lib/python3.11/dist-packages (from openai<2.0.0,>=1.58.1->langchain-openai) (0.8.2)\n",
            "Requirement already satisfied: sniffio in /usr/local/lib/python3.11/dist-packages (from openai<2.0.0,>=1.58.1->langchain-openai) (1.3.1)\n",
            "Requirement already satisfied: tqdm>4 in /usr/local/lib/python3.11/dist-packages (from openai<2.0.0,>=1.58.1->langchain-openai) (4.67.1)\n",
            "Requirement already satisfied: annotated-types>=0.6.0 in /usr/local/lib/python3.11/dist-packages (from pydantic<3.0.0,>=2.7.4->langchain) (0.7.0)\n",
            "Requirement already satisfied: pydantic-core==2.27.2 in /usr/local/lib/python3.11/dist-packages (from pydantic<3.0.0,>=2.7.4->langchain) (2.27.2)\n",
            "Requirement already satisfied: python-dotenv>=0.21.0 in /usr/local/lib/python3.11/dist-packages (from pydantic-settings<3.0.0,>=2.4.0->langchain-community) (1.0.1)\n",
            "Requirement already satisfied: charset-normalizer<4,>=2 in /usr/local/lib/python3.11/dist-packages (from requests<3,>=2->langchain) (3.4.1)\n",
            "Requirement already satisfied: idna<4,>=2.5 in /usr/local/lib/python3.11/dist-packages (from requests<3,>=2->langchain) (3.10)\n",
            "Requirement already satisfied: urllib3<3,>=1.21.1 in /usr/local/lib/python3.11/dist-packages (from requests<3,>=2->langchain) (2.3.0)\n",
            "Requirement already satisfied: certifi>=2017.4.17 in /usr/local/lib/python3.11/dist-packages (from requests<3,>=2->langchain) (2025.1.31)\n",
            "Requirement already satisfied: greenlet!=0.4.17 in /usr/local/lib/python3.11/dist-packages (from SQLAlchemy<3,>=1.4->langchain) (3.1.1)\n",
            "Requirement already satisfied: regex>=2022.1.18 in /usr/local/lib/python3.11/dist-packages (from tiktoken<1,>=0.7->langchain-openai) (2024.11.6)\n",
            "Requirement already satisfied: httpcore==1.* in /usr/local/lib/python3.11/dist-packages (from httpx>=0.25.2->langgraph-sdk<0.2.0,>=0.1.42->langgraph) (1.0.7)\n",
            "Requirement already satisfied: h11<0.15,>=0.13 in /usr/local/lib/python3.11/dist-packages (from httpcore==1.*->httpx>=0.25.2->langgraph-sdk<0.2.0,>=0.1.42->langgraph) (0.14.0)\n",
            "Requirement already satisfied: jsonpointer>=1.9 in /usr/local/lib/python3.11/dist-packages (from jsonpatch<2.0,>=1.33->langchain-core<1.0.0,>=0.3.41->langchain) (3.0.0)\n",
            "Requirement already satisfied: mypy-extensions>=0.3.0 in /usr/local/lib/python3.11/dist-packages (from typing-inspect<1,>=0.4.0->dataclasses-json<0.7,>=0.5.7->langchain-community) (1.0.0)\n",
            "Building wheels for collected packages: google-search-results\n",
            "  Building wheel for google-search-results (setup.py) ... \u001b[?25l\u001b[?25hdone\n",
            "  Created wheel for google-search-results: filename=google_search_results-2.4.2-py3-none-any.whl size=32009 sha256=56d2c56246a66d88009f7fe2549bd8cf315d748eee367d4a4f07c24ae8680c96\n",
            "  Stored in directory: /root/.cache/pip/wheels/6e/42/3e/aeb691b02cb7175ec70e2da04b5658d4739d2b41e5f73cd06f\n",
            "Successfully built google-search-results\n",
            "Installing collected packages: google-search-results\n",
            "Successfully installed google-search-results-2.4.2\n"
          ]
        }
      ]
    },
    {
      "cell_type": "code",
      "source": [
        "# GPU Verification\n",
        "\n",
        "!nvidia-smi\n",
        "!nvcc --version"
      ],
      "metadata": {
        "id": "oW8NABsu5fb4"
      },
      "execution_count": null,
      "outputs": []
    },
    {
      "cell_type": "code",
      "source": [
        "!pip install nx-cugraph-cu12 --extra-index-url https://pypi.nvidia.com # Requires CUDA-capable GPU"
      ],
      "metadata": {
        "id": "V9R7YLj-5ve9"
      },
      "execution_count": null,
      "outputs": []
    },
    {
      "cell_type": "code",
      "source": [
        "from sentence_transformers import SentenceTransformer\n",
        "\n",
        "import networkx as nx\n",
        "import nx_arangodb as nxadb\n",
        "from arango import ArangoClient\n",
        "\n",
        "from langgraph.prebuilt import create_react_agent\n",
        "from langgraph.checkpoint.memory import MemorySaver\n",
        "from langchain_openai import ChatOpenAI\n",
        "from langchain_community.graphs import ArangoGraph\n",
        "from langchain_community.chains.graph_qa.arangodb import ArangoGraphQAChain\n",
        "from langchain_core.tools import tool\n",
        "from langchain_core.prompts import PromptTemplate\n",
        "\n",
        "from serpapi import GoogleSearch\n",
        "import json\n",
        "import os\n",
        "from IPython.display import Markdown"
      ],
      "metadata": {
        "id": "rW5A2Bjf5yB2"
      },
      "execution_count": 230,
      "outputs": []
    },
    {
      "cell_type": "code",
      "source": [
        "# config.json file contains all the endpoints and credentials\n",
        "with open('config.json', 'r') as file:\n",
        "    config = json.load(file)"
      ],
      "metadata": {
        "id": "a-EDGYCZ63Ta"
      },
      "execution_count": 241,
      "outputs": []
    },
    {
      "cell_type": "code",
      "source": [
        "# Initialize Sentence Transformer model for embeddings\n",
        "model = SentenceTransformer('all-MiniLM-L6-v2')"
      ],
      "metadata": {
        "collapsed": true,
        "id": "mj44aMzcCFfh"
      },
      "execution_count": 146,
      "outputs": []
    },
    {
      "cell_type": "code",
      "source": [
        "# Connect to \"_system\" database as root user.\n",
        "# This returns an API wrapper for \"_system\" database.\n",
        "client = ArangoClient(hosts=config[\"ARANGO_ENDPOINT\"])\n",
        "\n",
        "sys_db = client.db('_system', username=config[\"ARANGO_USERNAME\"], password=config[\"ARANGO_PASSWORD\"])"
      ],
      "metadata": {
        "id": "L4o9uvPr_2eG"
      },
      "execution_count": 20,
      "outputs": []
    },
    {
      "cell_type": "code",
      "source": [
        "# List all databases.\n",
        "sys_db.databases()"
      ],
      "metadata": {
        "colab": {
          "base_uri": "https://localhost:8080/"
        },
        "id": "dduInQvn_8Si",
        "outputId": "56a2b908-1dc9-4820-fd1e-85d7cdecbf0f"
      },
      "execution_count": 21,
      "outputs": [
        {
          "output_type": "execute_result",
          "data": {
            "text/plain": [
              "['_system', 'fake-news']"
            ]
          },
          "metadata": {},
          "execution_count": 21
        }
      ]
    },
    {
      "cell_type": "code",
      "source": [
        "# Create a new database named \"fake-news\" if it does not exist.\n",
        "if not sys_db.has_database('fake-news'):\n",
        "    sys_db.create_database('fake-news')"
      ],
      "metadata": {
        "id": "uu6fjWbnAMGg"
      },
      "execution_count": 22,
      "outputs": []
    },
    {
      "cell_type": "code",
      "source": [
        "db = client.db(\"fake-news\", username=\"root\", password=\"Az4qWcI2li31uimRVo4j\")"
      ],
      "metadata": {
        "id": "1OLRDXdB6aXM"
      },
      "execution_count": 147,
      "outputs": []
    },
    {
      "cell_type": "markdown",
      "source": [
        "### Step 1: prepare dataset\n"
      ],
      "metadata": {
        "id": "7eVy4-zTLG7U"
      }
    },
    {
      "cell_type": "code",
      "source": [
        "# Create collections\n",
        "users = db.create_collection(\"Users\") #node\n",
        "messages = db.create_collection(\"Messages\") #node\n",
        "sent = db.create_collection(\"Sent\", edge=True) #edge\n",
        "forwarded = db.create_collection(\"Forwarded\", edge=True) #edge"
      ],
      "metadata": {
        "id": "A4nN88Yn7i5u"
      },
      "execution_count": 49,
      "outputs": []
    },
    {
      "cell_type": "code",
      "source": [
        "# Import Users data\n",
        "users_data = [\n",
        "    {\"_key\": \"1\", \"username\": \"Alice\"},\n",
        "    {\"_key\": \"2\", \"username\": \"Bob\"},\n",
        "    {\"_key\": \"3\", \"username\": \"Charlie\"},\n",
        "    {\"_key\": \"4\", \"username\": \"David\"},\n",
        "    {\"_key\": \"5\", \"username\": \"Eve\"}\n",
        "]\n",
        "users.import_bulk(users_data)"
      ],
      "metadata": {
        "colab": {
          "base_uri": "https://localhost:8080/"
        },
        "id": "Jfiqfpn48M6_",
        "outputId": "a91c7de9-f4e5-4d29-ad76-417c3b954937"
      },
      "execution_count": 50,
      "outputs": [
        {
          "output_type": "execute_result",
          "data": {
            "text/plain": [
              "{'error': False,\n",
              " 'created': 5,\n",
              " 'errors': 0,\n",
              " 'empty': 0,\n",
              " 'updated': 0,\n",
              " 'ignored': 0,\n",
              " 'details': []}"
            ]
          },
          "metadata": {},
          "execution_count": 50
        }
      ]
    },
    {
      "cell_type": "code",
      "source": [
        "# Vector index for messages\n",
        "\n",
        "def create_vector_index():\n",
        "    # Use AQL to create a vector index\n",
        "    aql = \"\"\"\n",
        "    INSERT {\n",
        "      type: \"vector\",\n",
        "      fields: [\"embedding\"],\n",
        "      name: \"vector_cosine\",\n",
        "      sparse: true,\n",
        "      unique: false,\n",
        "      inBackground: false,\n",
        "      params: {\n",
        "        metric: \"cosine\",\n",
        "        dimension: 384\n",
        "      }\n",
        "    } INTO Messages OPTIONS { overwriteMode: \"ignore\" }\n",
        "    \"\"\"\n",
        "    try:\n",
        "        db.aql.execute(aql)\n",
        "        print(\"Vector index created successfully on Messages collection.\")\n",
        "    except Exception as e:\n",
        "        print(f\"Error creating vector index: {e}\")\n",
        "\n",
        "create_vector_index()"
      ],
      "metadata": {
        "colab": {
          "base_uri": "https://localhost:8080/"
        },
        "id": "yTHJ8r_u9y2J",
        "outputId": "000ae18c-e9d6-4d1a-eb4e-967ee9b2d930"
      },
      "execution_count": 51,
      "outputs": [
        {
          "output_type": "stream",
          "name": "stdout",
          "text": [
            "Vector index created successfully on Messages collection.\n"
          ]
        }
      ]
    },
    {
      "cell_type": "code",
      "source": [
        "# Import Messages data\n",
        "def add_sample_data():\n",
        "    messages = db.collection(\"Messages\")\n",
        "    sample_texts = [\n",
        "        \"Hey, Breaking news! Trump lost 2025 election.\",\n",
        "        \"Did you know? Octopuses have three hearts! Two pump blood to the gills, and one pumps it to the rest of the body. But when they swim, the main heart stops beating! No wonder they prefer crawling. \",\n",
        "        \"I don't know if its true but trump lost the election.\"\n",
        "    ]\n",
        "\n",
        "    count = 1\n",
        "\n",
        "    for text in sample_texts:\n",
        "        # Check if the content already exists to avoid duplicates\n",
        "        existing_doc = list(messages.find({\"content\": text}))\n",
        "        if not existing_doc:\n",
        "            embedding = model.encode(text).tolist()\n",
        "            messages.insert({\"_key\": str(count), \"content\": text, \"embedding\": embedding})\n",
        "            print(f\"Inserted new document: {text}\")\n",
        "            count += 1\n",
        "    print(\"Sample data added to Messages collection.\")\n",
        "\n",
        "add_sample_data()"
      ],
      "metadata": {
        "colab": {
          "base_uri": "https://localhost:8080/"
        },
        "id": "tI1YCHjs8R_f",
        "outputId": "532a8780-b350-44f4-98ca-11043360fe64"
      },
      "execution_count": 52,
      "outputs": [
        {
          "output_type": "stream",
          "name": "stdout",
          "text": [
            "Inserted new document: Hey, Breaking news! Trump lost 2025 election.\n",
            "Inserted new document: Did you know? Octopuses have three hearts! Two pump blood to the gills, and one pumps it to the rest of the body. But when they swim, the main heart stops beating! No wonder they prefer crawling. \n",
            "Inserted new document: I don't know if its true but trump lost the election.\n",
            "Sample data added to Messages collection.\n"
          ]
        }
      ]
    },
    {
      "cell_type": "code",
      "source": [
        "# Import Sent edges\n",
        "sent_data = [\n",
        "    {\"_from\": \"Messages/1\", \"_to\": \"Users/1\", \"timestamp\": \"2025-03-08 19:00:00\"},\n",
        "    {\"_from\": \"Messages/3\", \"_to\": \"Users/2\", \"timestamp\": \"2025-03-08 19:15:00\"},\n",
        "    {\"_from\": \"Messages/2\", \"_to\": \"Users/3\", \"timestamp\": \"2025-03-08 19:30:00\"}\n",
        "]\n",
        "sent.import_bulk(sent_data)"
      ],
      "metadata": {
        "colab": {
          "base_uri": "https://localhost:8080/"
        },
        "id": "P7BHPv9I9XCT",
        "outputId": "31843f89-387b-47ca-95f2-949bf9873d60"
      },
      "execution_count": 53,
      "outputs": [
        {
          "output_type": "execute_result",
          "data": {
            "text/plain": [
              "{'error': False,\n",
              " 'created': 3,\n",
              " 'errors': 0,\n",
              " 'empty': 0,\n",
              " 'updated': 0,\n",
              " 'ignored': 0,\n",
              " 'details': []}"
            ]
          },
          "metadata": {},
          "execution_count": 53
        }
      ]
    },
    {
      "cell_type": "code",
      "source": [
        "# Import Forwarded edges\n",
        "forwarded_data = [\n",
        "    {\"_from\": \"Users/1\", \"_to\": \"Users/2\", \"message_id\": \"1\", \"timestamp\": \"2025-03-08 19:01:00\"},\n",
        "    {\"_from\": \"Users/2\", \"_to\": \"Users/3\", \"message_id\": \"1\", \"timestamp\": \"2025-03-08 19:05:00\"},\n",
        "    {\"_from\": \"Users/3\", \"_to\": \"Users/4\", \"message_id\": \"1\", \"timestamp\": \"2025-03-08 19:10:00\"},\n",
        "    {\"_from\": \"Users/3\", \"_to\": \"Users/5\", \"message_id\": \"2\", \"timestamp\": \"2025-03-08 19:16:00\"},\n",
        "    {\"_from\": \"Users/5\", \"_to\": \"Users/1\", \"message_id\": \"2\", \"timestamp\": \"2025-03-08 19:20:00\"},\n",
        "    {\"_from\": \"Users/2\", \"_to\": \"Users/4\", \"message_id\": \"3\", \"timestamp\": \"2025-03-08 19:31:00\"},\n",
        "    {\"_from\": \"Users/4\", \"_to\": \"Users/5\", \"message_id\": \"3\", \"timestamp\": \"2025-03-08 19:35:00\"}\n",
        "]\n",
        "forwarded.import_bulk(forwarded_data)"
      ],
      "metadata": {
        "colab": {
          "base_uri": "https://localhost:8080/"
        },
        "id": "nnStKJao9cG_",
        "outputId": "c553ef1f-1ccd-4d99-b495-74db1897e9f0"
      },
      "execution_count": 54,
      "outputs": [
        {
          "output_type": "execute_result",
          "data": {
            "text/plain": [
              "{'error': False,\n",
              " 'created': 7,\n",
              " 'errors': 0,\n",
              " 'empty': 0,\n",
              " 'updated': 0,\n",
              " 'ignored': 0,\n",
              " 'details': []}"
            ]
          },
          "metadata": {},
          "execution_count": 54
        }
      ]
    },
    {
      "cell_type": "code",
      "source": [
        "# Create the graph\n",
        "graph = db.create_graph(\"WhatsAppForwarding\") #graph\n",
        "\n",
        "# creating nodes\n",
        "graph.create_vertex_collection(\"Users\")\n",
        "graph.create_vertex_collection(\"Messages\")\n",
        "\n",
        "# creating edges bewteen nodes\n",
        "graph.create_edge_definition(\n",
        "    edge_collection=\"Sent\",\n",
        "    from_vertex_collections=[\"Users\"],\n",
        "    to_vertex_collections=[\"Messages\"]\n",
        ")\n",
        "graph.create_edge_definition(\n",
        "    edge_collection=\"Forwarded\",\n",
        "    from_vertex_collections=[\"Users\"],\n",
        "    to_vertex_collections=[\"Users\"]\n",
        ")"
      ],
      "metadata": {
        "colab": {
          "base_uri": "https://localhost:8080/"
        },
        "id": "9uE5Uw6q9iOK",
        "outputId": "2d5e67ec-e5c1-44a9-b186-8fe38b2a7355"
      },
      "execution_count": 55,
      "outputs": [
        {
          "output_type": "execute_result",
          "data": {
            "text/plain": [
              "<EdgeCollection Forwarded>"
            ]
          },
          "metadata": {},
          "execution_count": 55
        }
      ]
    },
    {
      "cell_type": "code",
      "source": [
        "# Test queries, 3 hops traversal\n",
        "\n",
        "aql = \"\"\"\n",
        "WITH Users\n",
        "FOR v, e, p IN 1..3 OUTBOUND 'Users/1' Forwarded\n",
        "    FILTER e.message_id == '1'\n",
        "    RETURN {\n",
        "        user: v.username,\n",
        "        timestamp: e.timestamp\n",
        "    }\n",
        "\"\"\"\n",
        "result = db.aql.execute(aql)\n",
        "print(list(result))"
      ],
      "metadata": {
        "colab": {
          "base_uri": "https://localhost:8080/"
        },
        "id": "QvQA-Ml5HnFI",
        "outputId": "2fe304b2-74dc-423a-ba5d-c56faf7ba5df"
      },
      "execution_count": 148,
      "outputs": [
        {
          "output_type": "stream",
          "name": "stdout",
          "text": [
            "[{'user': 'Bob', 'timestamp': '2025-03-08 19:01:00'}, {'user': 'Charlie', 'timestamp': '2025-03-08 19:05:00'}, {'user': 'David', 'timestamp': '2025-03-08 19:10:00'}]\n"
          ]
        }
      ]
    },
    {
      "cell_type": "markdown",
      "source": [
        "### Step 2: Build the Agentic App with LangChain & LangGraph\n"
      ],
      "metadata": {
        "id": "vFzeT_spKAAp"
      }
    },
    {
      "cell_type": "code",
      "source": [
        "# 1. Create the ArangoGraph LangChain wrapper\n",
        "arango_graph = ArangoGraph(db)"
      ],
      "metadata": {
        "id": "Bqo1RRnJJX_L"
      },
      "execution_count": 149,
      "outputs": []
    },
    {
      "cell_type": "code",
      "source": [
        "# 2. Define the llm object\n",
        "os.environ[\"OPENAI_API_KEY\"] = config[\"OPENAI_API\"]\n",
        "llm = ChatOpenAI(temperature=0, model_name=\"gpt-4o-mini\")\n",
        "\n",
        "llm.invoke(\"hello!\")"
      ],
      "metadata": {
        "colab": {
          "base_uri": "https://localhost:8080/"
        },
        "id": "IS26-SKlKKiH",
        "outputId": "0d4269d2-6780-47d0-8093-79f57a0d8b10"
      },
      "execution_count": 150,
      "outputs": [
        {
          "output_type": "execute_result",
          "data": {
            "text/plain": [
              "AIMessage(content='Hello! How can I assist you today?', additional_kwargs={'refusal': None}, response_metadata={'token_usage': {'completion_tokens': 10, 'prompt_tokens': 9, 'total_tokens': 19, 'completion_tokens_details': {'accepted_prediction_tokens': 0, 'audio_tokens': 0, 'reasoning_tokens': 0, 'rejected_prediction_tokens': 0}, 'prompt_tokens_details': {'audio_tokens': 0, 'cached_tokens': 0}}, 'model_name': 'gpt-4o-mini-2024-07-18', 'system_fingerprint': 'fp_06737a9306', 'finish_reason': 'stop', 'logprobs': None}, id='run-1905389f-1fab-4bde-a07b-abb3f17fcc73-0', usage_metadata={'input_tokens': 9, 'output_tokens': 10, 'total_tokens': 19, 'input_token_details': {'audio': 0, 'cache_read': 0}, 'output_token_details': {'audio': 0, 'reasoning': 0}})"
            ]
          },
          "metadata": {},
          "execution_count": 150
        }
      ]
    },
    {
      "cell_type": "code",
      "source": [
        "graph_schema = arango_graph.schema"
      ],
      "metadata": {
        "collapsed": true,
        "id": "IZgwwEHVVolg"
      },
      "execution_count": 236,
      "outputs": []
    },
    {
      "cell_type": "code",
      "source": [
        "# 3. Define the Text to AQL Tool\n",
        "@tool\n",
        "def text_to_aql_to_text(query: str):\n",
        "    \"\"\"This tool is available to invoke the\n",
        "    ArangoGraphQAChain object, translate a Natural Language Query into AQL,\n",
        "    execute the query, and translate the result back into Natural Language.\n",
        "\n",
        "    Example queries for your reference:\n",
        "\n",
        "    1) Query to find who Alice forwarded messages to:\n",
        "    FOR u IN Users\n",
        "    FILTER u.username == \"Alice\"\n",
        "    FOR v, e IN OUTBOUND u Forwarded\n",
        "    RETURN {\n",
        "      forwarded_to: v.username,\n",
        "      message_id: e.message_id,\n",
        "      timestamp: e.timestamp\n",
        "    }\n",
        "\n",
        "    2) Query to find who forwarded messages to Alice:\n",
        "    FOR u IN Users\n",
        "    FILTER u.username == \"Alice\"\n",
        "    FOR v, e IN INBOUND u Forwarded\n",
        "    RETURN {\n",
        "      forwarded_from: v.username,\n",
        "      message_id: e.message_id,\n",
        "      timestamp: e.timestamp\n",
        "    }\n",
        "\n",
        "    3) query to fetch specific message\n",
        "    FOR doc IN Messages\n",
        "    FILTER doc.content == \"Hello, how are you?\"\n",
        "    RETURN doc\n",
        "    \"\"\"\n",
        "\n",
        "    llm = ChatOpenAI(temperature=0, model_name=\"gpt-4o-mini\")\n",
        "\n",
        "    chain = ArangoGraphQAChain.from_llm(\n",
        "    \tllm=llm,\n",
        "    \tgraph=arango_graph,\n",
        "    \tverbose=True,\n",
        "        allow_dangerous_requests=True\n",
        "    )\n",
        "\n",
        "    result = chain.invoke(query)\n",
        "\n",
        "    return str(result[\"result\"])"
      ],
      "metadata": {
        "id": "7USeiuZiKdBM"
      },
      "execution_count": 219,
      "outputs": []
    },
    {
      "cell_type": "code",
      "source": [
        "# 4. Define the semantic search Tool\n",
        "@tool\n",
        "def semantic_search(query: str, limit: int = 2):\n",
        "    \"\"\"This tool performs semantic search on the Messages collection\n",
        "    using cosine similarity between the query and stored embeddings.\n",
        "\n",
        "    Args:\n",
        "        query: The search query in natural language.\n",
        "        limit: The number of top-matching results to return.\n",
        "\n",
        "    Returns:\n",
        "        A list of dictionaries containing the content and similarity score.\n",
        "    \"\"\"\n",
        "\n",
        "    query_embedding = model.encode(query).tolist()\n",
        "    aql = \"\"\"\n",
        "    WITH Users\n",
        "    LET queryEmbedding = @queryEmbedding\n",
        "    FOR doc IN Messages\n",
        "      LET score = COSINE_SIMILARITY(doc.embedding, queryEmbedding)\n",
        "      FILTER score > 0.1\n",
        "      SORT score DESC\n",
        "      LIMIT @limit\n",
        "      FOR user IN 1 OUTBOUND doc Sent\n",
        "        RETURN {\n",
        "          content: doc.content,\n",
        "          original_sender: user.username,\n",
        "          similarity_score: score\n",
        "        }\n",
        "\n",
        "    \"\"\"\n",
        "    bind_vars = {\"queryEmbedding\": query_embedding, \"limit\": limit}\n",
        "    cursor = db.aql.execute(aql, bind_vars=bind_vars)\n",
        "\n",
        "    return list(cursor)"
      ],
      "metadata": {
        "id": "6GtMgNYbP37K"
      },
      "execution_count": 220,
      "outputs": []
    },
    {
      "cell_type": "code",
      "source": [
        "# 5. Define the message verificattion web search Tool\n",
        "@tool\n",
        "def verify_fact(query: str):\n",
        "    \"\"\"Searches the web for a given query using Google Search via SerpAPI.\n",
        "\n",
        "    Args:\n",
        "        query: The statement or question to verify.\n",
        "\n",
        "    Returns:\n",
        "        A summary of the top search results.\n",
        "    \"\"\"\n",
        "    params = {\n",
        "        \"q\": query,\n",
        "        \"api_key\": config[\"SERP_API_KEY\"]\n",
        "    }\n",
        "    search = GoogleSearch(params)\n",
        "    results = search.get_dict().get(\"organic_results\", [])[:1]  # Top 1 result\n",
        "\n",
        "    summaries = [\n",
        "        {\"title\": res[\"title\"], \"snippet\": res[\"snippet\"], \"url\": res[\"link\"]}\n",
        "        for res in results\n",
        "    ]\n",
        "\n",
        "    return json.dumps(summaries, indent=2) if summaries else \"No relevant information found.\""
      ],
      "metadata": {
        "id": "Ul7kGeHsGjLT"
      },
      "execution_count": 231,
      "outputs": []
    },
    {
      "cell_type": "code",
      "source": [
        "# 6. Create the Agentic Application\n",
        "\n",
        "tools = [text_to_aql_to_text, semantic_search, verify_fact]\n",
        "\n",
        "def query_graph(query):\n",
        "    llm = ChatOpenAI(temperature=0, model_name=\"gpt-4o-mini\")\n",
        "    app = create_react_agent(llm, tools)\n",
        "    final_state = app.invoke({\"messages\": [{\"role\": \"user\", \"content\": query}]})\n",
        "    return final_state[\"messages\"][-1].content"
      ],
      "metadata": {
        "id": "nvvAEhfOW2UR"
      },
      "execution_count": 232,
      "outputs": []
    },
    {
      "cell_type": "code",
      "source": [
        "query = \"find who Alice forwarded messages to and that person forwarded to who?\"\n",
        "display(Markdown(query_graph(query)))"
      ],
      "metadata": {
        "colab": {
          "base_uri": "https://localhost:8080/",
          "height": 619
        },
        "id": "nJY6JK43Noj1",
        "outputId": "d2f8b8e1-6e47-41b6-b35b-01574826931b"
      },
      "execution_count": 239,
      "outputs": [
        {
          "output_type": "stream",
          "name": "stdout",
          "text": [
            "\n",
            "\n",
            "\u001b[1m> Entering new ArangoGraphQAChain chain...\u001b[0m\n",
            "\n",
            "\n",
            "\u001b[1m> Entering new ArangoGraphQAChain chain...\u001b[0m\n",
            "AQL Query (1):\u001b[32;1m\u001b[1;3m\n",
            "WITH Users, Forwarded\n",
            "FOR u IN Users\n",
            "    FILTER u.username == 'Alice'\n",
            "    FOR f IN Forwarded\n",
            "        FILTER f._from == u._id\n",
            "        RETURN f._to\n",
            "\u001b[0m\n",
            "AQL Result:\n",
            "\u001b[32;1m\u001b[1;3m['Users/2']\u001b[0m\n",
            "AQL Query (1):\u001b[32;1m\u001b[1;3m\n",
            "WITH Users, Forwarded\n",
            "FOR u IN Users\n",
            "    FILTER u.username == 'Alice'\n",
            "    FOR f IN Forwarded\n",
            "        FILTER f._from == u._id\n",
            "        LET forwardedTo = f._to\n",
            "        FOR f2 IN Forwarded\n",
            "            FILTER f2._from == forwardedTo\n",
            "            RETURN f2._to\n",
            "\u001b[0m\n",
            "AQL Result:\n",
            "\u001b[32;1m\u001b[1;3m['Users/3', 'Users/4']\u001b[0m\n",
            "\n",
            "\u001b[1m> Finished chain.\u001b[0m\n",
            "\n",
            "\u001b[1m> Finished chain.\u001b[0m\n"
          ]
        },
        {
          "output_type": "display_data",
          "data": {
            "text/plain": [
              "<IPython.core.display.Markdown object>"
            ],
            "text/markdown": "Alice forwarded messages to a user with the ID 'Users/2'. This user, in turn, received forwarded messages from two other users, identified as 'Users/3' and 'Users/4'."
          },
          "metadata": {}
        }
      ]
    },
    {
      "cell_type": "code",
      "source": [
        "query = \"find who forwarded messages to Alice\"\n",
        "display(Markdown(query_graph(query)))"
      ],
      "metadata": {
        "colab": {
          "base_uri": "https://localhost:8080/",
          "height": 307
        },
        "id": "E-af428LMrYz",
        "outputId": "f7dd2624-3217-4e33-b731-4214b0b4cd5f"
      },
      "execution_count": 212,
      "outputs": [
        {
          "output_type": "stream",
          "name": "stdout",
          "text": [
            "\n",
            "\n",
            "\u001b[1m> Entering new ArangoGraphQAChain chain...\u001b[0m\n",
            "AQL Query (1):\u001b[32;1m\u001b[1;3m\n",
            "WITH Users, Forwarded\n",
            "FOR u IN Users\n",
            "    FILTER u.username == 'Alice'\n",
            "    FOR f IN Forwarded\n",
            "        FILTER f._to == u._id\n",
            "        RETURN f._from\n",
            "\u001b[0m\n",
            "AQL Result:\n",
            "\u001b[32;1m\u001b[1;3m['Users/5']\u001b[0m\n",
            "\n",
            "\u001b[1m> Finished chain.\u001b[0m\n"
          ]
        },
        {
          "output_type": "display_data",
          "data": {
            "text/plain": [
              "<IPython.core.display.Markdown object>"
            ],
            "text/markdown": "The user with the ID 'Users/5' is responsible for forwarding messages to Alice."
          },
          "metadata": {}
        }
      ]
    },
    {
      "cell_type": "code",
      "source": [
        "query = \"find out similar messages sent by different people along with their name\"\n",
        "display(Markdown(query_graph(query)))"
      ],
      "metadata": {
        "colab": {
          "base_uri": "https://localhost:8080/",
          "height": 126
        },
        "id": "3Wi8mp7PPhhD",
        "outputId": "f3cc72b6-0022-4477-ae9d-ef0fb36bf681"
      },
      "execution_count": 205,
      "outputs": [
        {
          "output_type": "display_data",
          "data": {
            "text/plain": [
              "<IPython.core.display.Markdown object>"
            ],
            "text/markdown": "I found some similar messages sent by different people:\n\n1. **Alice**: \"Hey, Breaking news! Trump lost 2025 election.\" (Similarity Score: 0.14)\n2. **Bob**: \"I don't know if its true but trump lost the election.\" (Similarity Score: 0.10)\n\nThese messages share a similar theme regarding the 2025 election."
          },
          "metadata": {}
        }
      ]
    },
    {
      "cell_type": "code",
      "source": [
        "query = \"fetch the content of message 1 and verify this message BY searching web if its true\"\n",
        "display(Markdown(query_graph(query)))"
      ],
      "metadata": {
        "colab": {
          "base_uri": "https://localhost:8080/",
          "height": 333
        },
        "id": "CpnzaKmuGpGT",
        "outputId": "02f56a6e-393a-4861-c54b-e5eece4d0c6b"
      },
      "execution_count": 235,
      "outputs": [
        {
          "output_type": "stream",
          "name": "stdout",
          "text": [
            "\n",
            "\n",
            "\u001b[1m> Entering new ArangoGraphQAChain chain...\u001b[0m\n",
            "AQL Query (1):\u001b[32;1m\u001b[1;3m\n",
            "WITH Messages\n",
            "FOR message IN Messages\n",
            "FILTER message._key == '1'\n",
            "RETURN message\n",
            "\u001b[0m\n",
            "AQL Result:\n",
            "\u001b[32;1m\u001b[1;3m[{'_key': '1', '_id': 'Messages/1', '_rev': '_jVqQwM6--_', 'content': 'Hey, Breaking news! Trump lost 2025 election.', 'embedding': [-0.007163814269006252, 0.00791835691779852, 0.1831125020980835, 0.05643795058131218, 0.02982192672789097, 0.02564813382923603, -0.11532781273126602, -0.018671628087759018, -0.0614331029355526, 0.005224666558206081, -0.05747831240296364, 0.048746827989816666, 0.02096504718065262, -0.049460116773843765, -0.07076548784971237, 0.03233611211180687, -0.10514471679925919, -0.045691899955272675, -0.09758692979812622, 0.009631344117224216, 0.09832679480314255, 0.07849396020174026, -0.01998559944331646, 0.051968250423669815, 0.023345502093434334, 0.007565595209598541, -0.016841880977153778, 0.03489099442958832, -0.027945276349782944, 0.00877468753606081, 0.030479541048407555, 0.01885531283915043, -0.08753158152103424, -0.04103457182645798, 0.007702788338065147, -0.004651005379855633, -0.01621490903198719, -0.027748381718993187, 0.08165100961923599, -0.0798078402876854, 0.003691435791552067, -0.054700881242752075, -0.06944750994443893, 0.04097769036889076, 0.02912423573434353, 0.00984523817896843, -0.1023198589682579, 0.0219392329454422, 0.01745515875518322, 0.02806272730231285, -0.07970290631055832, 0.01974637247622013, 0.043608684092760086, -0.028997596353292465, -0.001308431033976376, -0.046971142292022705, -0.005041229072958231, -0.05237407237291336, -0.01669938862323761, 0.018627602607011795, 0.05373591557145119, -0.0005035759531892836, -0.029082166031003, -0.0036347899585962296, 0.007266428787261248, 0.053044479340314865, -0.009689907543361187, -0.055180031806230545, -0.0635896846652031, 0.061844602227211, 0.022221973165869713, -0.03594299778342247, 0.10019630193710327, 0.03512993082404137, 0.0026276735588908195, -0.032206811010837555, 0.06375255435705185, 0.06132575124502182, 0.02832261472940445, 0.049234338104724884, 0.014761943370103836, -0.07201164215803146, -0.0526336245238781, -0.054022617638111115, -0.03190590441226959, -0.04162413999438286, 1.9939732737839222e-05, -0.01821058616042137, -0.028978461399674416, -0.004685796331614256, -0.08618150651454926, -0.019900904968380928, 0.002451859647408128, 0.04415500909090042, -0.11766042560338974, -0.005766741000115871, -0.0381779745221138, 0.01894824393093586, -0.05258626863360405, 0.048799652606248856, -0.07358609884977341, 0.03110707364976406, -0.01549275778234005, -0.06453706324100494, -0.04175831377506256, -0.04163660109043121, -0.016830917447805405, 0.006379179656505585, 0.0008495749207213521, -0.04803568124771118, 0.02777201309800148, -0.025654340162873268, 0.024083396419882774, -0.0006129737012088299, 0.08560478687286377, -0.017713259905576706, -0.03742814436554909, 0.016761163249611855, -0.013675873167812824, 0.04495728388428688, -0.027421055361628532, 0.06882715225219727, -0.07255364954471588, 0.05554528906941414, 0.0029993392527103424, -0.08425859361886978, 0.003574368543922901, -2.6290572167903643e-33, 0.03697128966450691, -0.06599368900060654, 0.002452417043969035, 0.2121245414018631, -0.07168983668088913, 0.06835576146841049, -0.004232477396726608, -0.023926714435219765, 0.011786133050918579, -0.014020697213709354, 0.042519230395555496, 0.03418821468949318, -0.05178680270910263, -0.01978670246899128, 0.06681079417467117, -0.04161018505692482, -0.02479390986263752, 0.030466437339782715, 0.030433818697929382, -0.04255293682217598, -0.012404179200530052, -0.0018256133189424872, 0.03691307455301285, -0.0027896768879145384, 0.08463799208402634, 0.11629871279001236, 0.0661206915974617, -0.06059889495372772, -0.030149443075060844, 0.008047917857766151, -0.05201756954193115, -0.010194721631705761, 0.041142888367176056, 0.021532651036977768, -0.008515486493706703, -0.0012979202438145876, -0.0009971812833100557, 0.031616438180208206, -0.047476258128881454, 0.04310270771384239, 0.011650585569441319, 0.0085022933781147, -0.025058595463633537, 0.0189126655459404, 0.016489043831825256, -0.08153355866670609, 0.0347229465842247, 0.04529765620827675, 0.019908040761947632, -0.027758190408349037, -0.011802715249359608, 0.017770890146493912, -0.00688826572149992, 0.01795368641614914, 0.014441268518567085, -0.04289675131440163, -0.01092369295656681, -0.04399297386407852, 0.017046106979250908, -0.007825620472431183, 0.008447447791695595, 0.04535293206572533, -0.004140801262110472, -0.00788695178925991, -0.12072734534740448, 0.012852910906076431, 0.0011742032365873456, -0.02712922915816307, -0.0240846648812294, 0.03879932314157486, 0.025889771059155464, -0.013325938954949379, -0.06495630741119385, 0.031674232333898544, -0.012692662887275219, 0.014298656955361366, 0.027082860469818115, -0.0834147036075592, 0.08262260258197784, 0.031127000227570534, 0.056107454001903534, 0.007843608036637306, 0.09841276705265045, -0.05183064565062523, 0.04934358969330788, 0.012195837683975697, 0.06928106397390366, -0.10076586902141571, 0.05443890392780304, -0.054924968630075455, -0.05443320423364639, -0.045359496027231216, 0.048869457095861435, 0.047984521836042404, -0.027163520455360413, -3.7297274032564784e-34, -0.037428636103868484, 0.0015940251760184765, -0.044835250824689865, -0.02249891124665737, -0.060456469655036926, -0.03440525382757187, 0.03029218502342701, 0.06169692054390907, -0.02728072740137577, -0.026323692873120308, 0.03663249686360359, 0.0025732209905982018, 0.04932653531432152, 0.10375237464904785, -0.034059811383485794, -0.029158227145671844, 0.12789393961429596, -0.10126736015081406, -0.05887912958860397, 0.0213408712297678, 0.025509506464004517, 0.08606181293725967, -0.07895467430353165, 0.11779626458883286, 0.038149189203977585, -0.0187084823846817, 0.08520472794771194, 0.016649067401885986, -0.011218473315238953, -0.09169984608888626, -0.06346593052148819, -0.06434085220098495, 0.003961585462093353, 0.09399009495973587, 0.07808445394039154, 0.002100979909300804, -0.014821718446910381, -0.08152879029512405, -0.06032814085483551, 0.0005052862106822431, 0.01756693795323372, 0.028656676411628723, -0.021487349644303322, 0.0042420499958097935, -0.03776029869914055, 0.035663917660713196, -0.008021965622901917, 0.07996080070734024, 0.049962516874074936, -0.00014610032667405903, 0.01778552308678627, -0.00665324879810214, -0.04747575521469116, 0.04631892964243889, -0.06678847223520279, 0.017130281776189804, -0.039457280188798904, -0.01806805469095707, -0.06838305294513702, 0.06902814656496048, -0.07417778670787811, 0.0019148231949657202, 0.0978488177061081, 0.058598604053258896, 0.04899795725941658, -0.0002626001078169793, -0.08322586864233017, 0.0069745746441185474, 0.06488708406686783, 0.06436087191104889, 0.07927566021680832, 0.041295312345027924, -0.0723709687590599, -0.030661432072520256, 0.04821746051311493, 0.06750090420246124, -0.040251754224300385, 0.09240920096635818, 0.031046206131577492, 0.10891765356063843, 0.03171643614768982, 0.005374145694077015, -0.005148882512003183, -0.08729209750890732, -0.019600851461291313, 0.02257671020925045, 0.08994085341691971, -0.049971118569374084, -0.029982389882206917, 0.0025809304788708687, -0.029802212491631508, 0.003966390620917082, -0.013465282507240772, 0.024420971050858498, -0.0072418018244206905, -1.9837386844301363e-08, 0.016794471070170403, 0.06641627848148346, -0.018363365903496742, 0.060973573476076126, 0.026597335934638977, 0.035657528787851334, -0.0775914192199707, -0.06944558024406433, 0.056796107441186905, 0.08010771125555038, -0.010974141769111156, -0.0031108641996979713, 0.009075324982404709, 0.05940261855721474, -0.04947885498404503, 0.04397708550095558, 0.054158616811037064, 0.006088249385356903, 0.002604080829769373, -0.07205619663000107, -0.018838370218873024, 0.0013209809549152851, -0.03674366697669029, 0.07239171862602234, 0.04354192689061165, -0.06511006504297256, 0.000856778584420681, 0.04381425678730011, -0.02233193628489971, -0.056750956922769547, -0.10388876497745514, -0.025481196120381355, -0.1381016969680786, 0.005386825650930405, -0.09130670875310898, 0.04727599769830704, -0.005699383094906807, 0.05696522817015648, 0.04042258486151695, 0.03469443693757057, -0.04330083727836609, 0.022512076422572136, -0.032716866582632065, -0.01579393446445465, -0.0006135325529612601, -0.0963975191116333, 0.08849911391735077, -0.013352409936487675, 0.07658440619707108, -0.016606157645583153, -0.05545203760266304, 0.002193974796682596, 0.03502175584435463, -0.0638187900185585, 0.09619083255529404, -0.02331913448870182, 0.007846607826650143, 0.041893262416124344, -0.07769519090652466, -0.006591590121388435, -0.04078114032745361, -0.015596220269799232, 0.03510307893157005, 0.07484565675258636]}]\u001b[0m\n",
            "\n",
            "\u001b[1m> Finished chain.\u001b[0m\n"
          ]
        },
        {
          "output_type": "display_data",
          "data": {
            "text/plain": [
              "<IPython.core.display.Markdown object>"
            ],
            "text/markdown": "The content of message 1 is: **\"Hey, Breaking news! Trump lost 2025 election.\"**\n\nHowever, a web search indicates that this statement is not true. According to a recent article from The New York Times, Donald J. Trump has actually won the presidency in the 2024 election. You can read more about it [here](https://www.nytimes.com/interactive/2024/11/05/us/elections/results-president.html)."
          },
          "metadata": {}
        }
      ]
    },
    {
      "cell_type": "code",
      "source": [],
      "metadata": {
        "id": "kkUyTT7eUin4"
      },
      "execution_count": 240,
      "outputs": []
    }
  ]
}